{
  "nbformat": 4,
  "nbformat_minor": 0,
  "metadata": {
    "colab": {
      "name": "Scikit Learn Tips.ipynb",
      "provenance": [],
      "collapsed_sections": [],
      "authorship_tag": "ABX9TyMNG6rhKyx7XAcTJUmd2+Kl",
      "include_colab_link": true
    },
    "kernelspec": {
      "name": "python3",
      "display_name": "Python 3"
    }
  },
  "cells": [
    {
      "cell_type": "markdown",
      "metadata": {
        "id": "view-in-github",
        "colab_type": "text"
      },
      "source": [
        "<a href=\"https://colab.research.google.com/github/simonprudhomme/sklearn_tips/blob/master/Scikit_Learn_Tips.ipynb\" target=\"_parent\"><img src=\"https://colab.research.google.com/assets/colab-badge.svg\" alt=\"Open In Colab\"/></a>"
      ]
    },
    {
      "cell_type": "markdown",
      "metadata": {
        "id": "BP0FwArAnpv8",
        "colab_type": "text"
      },
      "source": [
        "## Scikit-learn tip #1"
      ]
    },
    {
      "cell_type": "markdown",
      "metadata": {
        "id": "dw6oqVnNnxZR",
        "colab_type": "text"
      },
      "source": [
        "Use ColumnTransformer to apply different preprocessing to different columns"
      ]
    },
    {
      "cell_type": "code",
      "metadata": {
        "id": "wkHPK3w4nr-I",
        "colab_type": "code",
        "outputId": "3ef2afe4-151b-47e2-f2ea-736da5a4f6ce",
        "colab": {
          "base_uri": "https://localhost:8080/",
          "height": 142
        }
      },
      "source": [
        "# Load Python Package\n",
        "import pandas as pd\n",
        "from sklearn.preprocessing import OneHotEncoder\n",
        "from sklearn.impute import SimpleImputer\n",
        "from sklearn.compose import make_column_transformer\n",
        "\n",
        "# Load data (working with Titanic dataset)\n",
        "data = pd.read_csv('https://web.stanford.edu/class/archive/cs/cs109/cs109.1166/stuff/titanic.csv')\n",
        "data.head(3)"
      ],
      "execution_count": 14,
      "outputs": [
        {
          "output_type": "execute_result",
          "data": {
            "text/html": [
              "<div>\n",
              "<style scoped>\n",
              "    .dataframe tbody tr th:only-of-type {\n",
              "        vertical-align: middle;\n",
              "    }\n",
              "\n",
              "    .dataframe tbody tr th {\n",
              "        vertical-align: top;\n",
              "    }\n",
              "\n",
              "    .dataframe thead th {\n",
              "        text-align: right;\n",
              "    }\n",
              "</style>\n",
              "<table border=\"1\" class=\"dataframe\">\n",
              "  <thead>\n",
              "    <tr style=\"text-align: right;\">\n",
              "      <th></th>\n",
              "      <th>Survived</th>\n",
              "      <th>Pclass</th>\n",
              "      <th>Name</th>\n",
              "      <th>Sex</th>\n",
              "      <th>Age</th>\n",
              "      <th>Siblings/Spouses Aboard</th>\n",
              "      <th>Parents/Children Aboard</th>\n",
              "      <th>Fare</th>\n",
              "    </tr>\n",
              "  </thead>\n",
              "  <tbody>\n",
              "    <tr>\n",
              "      <th>0</th>\n",
              "      <td>0</td>\n",
              "      <td>3</td>\n",
              "      <td>Mr. Owen Harris Braund</td>\n",
              "      <td>male</td>\n",
              "      <td>22.0</td>\n",
              "      <td>1</td>\n",
              "      <td>0</td>\n",
              "      <td>7.2500</td>\n",
              "    </tr>\n",
              "    <tr>\n",
              "      <th>1</th>\n",
              "      <td>1</td>\n",
              "      <td>1</td>\n",
              "      <td>Mrs. John Bradley (Florence Briggs Thayer) Cum...</td>\n",
              "      <td>female</td>\n",
              "      <td>38.0</td>\n",
              "      <td>1</td>\n",
              "      <td>0</td>\n",
              "      <td>71.2833</td>\n",
              "    </tr>\n",
              "    <tr>\n",
              "      <th>2</th>\n",
              "      <td>1</td>\n",
              "      <td>3</td>\n",
              "      <td>Miss. Laina Heikkinen</td>\n",
              "      <td>female</td>\n",
              "      <td>26.0</td>\n",
              "      <td>0</td>\n",
              "      <td>0</td>\n",
              "      <td>7.9250</td>\n",
              "    </tr>\n",
              "  </tbody>\n",
              "</table>\n",
              "</div>"
            ],
            "text/plain": [
              "   Survived  Pclass  ... Parents/Children Aboard     Fare\n",
              "0         0       3  ...                       0   7.2500\n",
              "1         1       1  ...                       0  71.2833\n",
              "2         1       3  ...                       0   7.9250\n",
              "\n",
              "[3 rows x 8 columns]"
            ]
          },
          "metadata": {
            "tags": []
          },
          "execution_count": 14
        }
      ]
    },
    {
      "cell_type": "code",
      "metadata": {
        "id": "_YesAMQOpII-",
        "colab_type": "code",
        "outputId": "ee9c1a08-c1b1-42cd-9b30-8ffcb93552c9",
        "colab": {
          "base_uri": "https://localhost:8080/",
          "height": 136
        }
      },
      "source": [
        "# Make Transformer\n",
        "transformer = make_column_transformer(\n",
        "    (OneHotEncoder(), ['Pclass','Sex']),\n",
        "    (SimpleImputer(), ['Age']),\n",
        "    remainder='passthrough'\n",
        ")\n",
        "\n",
        "# Fit-Transform data with transformer\n",
        "transformer.fit_transform(data)"
      ],
      "execution_count": 17,
      "outputs": [
        {
          "output_type": "execute_result",
          "data": {
            "text/plain": [
              "array([[0.0, 0.0, 1.0, ..., 1, 0, 7.25],\n",
              "       [1.0, 0.0, 0.0, ..., 1, 0, 71.2833],\n",
              "       [0.0, 0.0, 1.0, ..., 0, 0, 7.925],\n",
              "       ...,\n",
              "       [0.0, 0.0, 1.0, ..., 1, 2, 23.45],\n",
              "       [1.0, 0.0, 0.0, ..., 0, 0, 30.0],\n",
              "       [0.0, 0.0, 1.0, ..., 0, 0, 7.75]], dtype=object)"
            ]
          },
          "metadata": {
            "tags": []
          },
          "execution_count": 17
        }
      ]
    },
    {
      "cell_type": "markdown",
      "metadata": {
        "id": "HgS3TepXtYSh",
        "colab_type": "text"
      },
      "source": [
        "## scikit-learn tip #2"
      ]
    },
    {
      "cell_type": "markdown",
      "metadata": {
        "id": "UKE_RLtmtfY3",
        "colab_type": "text"
      },
      "source": [
        "There are SEVEN ways to select columns using ColumnTransformer"
      ]
    },
    {
      "cell_type": "code",
      "metadata": {
        "id": "Ckjs9ew5tjCK",
        "colab_type": "code",
        "colab": {
          "base_uri": "https://localhost:8080/",
          "height": 142
        },
        "outputId": "5832ab87-0179-420e-f591-da985f95fd36"
      },
      "source": [
        "# Load Python Package\n",
        "import pandas as pd\n",
        "from sklearn.preprocessing import OneHotEncoder\n",
        "from sklearn.impute import SimpleImputer\n",
        "from sklearn.compose import make_column_transformer\n",
        "from sklearn.compose import make_column_selector\n",
        "\n",
        "\n",
        "# Load data (working with Titanic dataset)\n",
        "data = pd.read_csv('https://web.stanford.edu/class/archive/cs/cs109/cs109.1166/stuff/titanic.csv')\n",
        "data.pop('Name')\n",
        "data.head(3)"
      ],
      "execution_count": 22,
      "outputs": [
        {
          "output_type": "execute_result",
          "data": {
            "text/html": [
              "<div>\n",
              "<style scoped>\n",
              "    .dataframe tbody tr th:only-of-type {\n",
              "        vertical-align: middle;\n",
              "    }\n",
              "\n",
              "    .dataframe tbody tr th {\n",
              "        vertical-align: top;\n",
              "    }\n",
              "\n",
              "    .dataframe thead th {\n",
              "        text-align: right;\n",
              "    }\n",
              "</style>\n",
              "<table border=\"1\" class=\"dataframe\">\n",
              "  <thead>\n",
              "    <tr style=\"text-align: right;\">\n",
              "      <th></th>\n",
              "      <th>Survived</th>\n",
              "      <th>Pclass</th>\n",
              "      <th>Sex</th>\n",
              "      <th>Age</th>\n",
              "      <th>Siblings/Spouses Aboard</th>\n",
              "      <th>Parents/Children Aboard</th>\n",
              "      <th>Fare</th>\n",
              "    </tr>\n",
              "  </thead>\n",
              "  <tbody>\n",
              "    <tr>\n",
              "      <th>0</th>\n",
              "      <td>0</td>\n",
              "      <td>3</td>\n",
              "      <td>male</td>\n",
              "      <td>22.0</td>\n",
              "      <td>1</td>\n",
              "      <td>0</td>\n",
              "      <td>7.2500</td>\n",
              "    </tr>\n",
              "    <tr>\n",
              "      <th>1</th>\n",
              "      <td>1</td>\n",
              "      <td>1</td>\n",
              "      <td>female</td>\n",
              "      <td>38.0</td>\n",
              "      <td>1</td>\n",
              "      <td>0</td>\n",
              "      <td>71.2833</td>\n",
              "    </tr>\n",
              "    <tr>\n",
              "      <th>2</th>\n",
              "      <td>1</td>\n",
              "      <td>3</td>\n",
              "      <td>female</td>\n",
              "      <td>26.0</td>\n",
              "      <td>0</td>\n",
              "      <td>0</td>\n",
              "      <td>7.9250</td>\n",
              "    </tr>\n",
              "  </tbody>\n",
              "</table>\n",
              "</div>"
            ],
            "text/plain": [
              "   Survived  Pclass  ... Parents/Children Aboard     Fare\n",
              "0         0       3  ...                       0   7.2500\n",
              "1         1       1  ...                       0  71.2833\n",
              "2         1       3  ...                       0   7.9250\n",
              "\n",
              "[3 rows x 7 columns]"
            ]
          },
          "metadata": {
            "tags": []
          },
          "execution_count": 22
        }
      ]
    },
    {
      "cell_type": "code",
      "metadata": {
        "id": "D7mb-v41tk3A",
        "colab_type": "code",
        "colab": {
          "base_uri": "https://localhost:8080/",
          "height": 136
        },
        "outputId": "528c6d19-2ae0-41f6-8f73-2845f94fd92a"
      },
      "source": [
        "# Make Transformer\n",
        "transformer = make_column_transformer(\n",
        "    (OneHotEncoder(), make_column_selector(dtype_include='object')),\n",
        "    (SimpleImputer(), make_column_selector(dtype_include='int')),\n",
        "    remainder='drop'\n",
        ")\n",
        "\n",
        "# Fit-Transform data with transformer\n",
        "transformer.fit_transform(data)"
      ],
      "execution_count": 23,
      "outputs": [
        {
          "output_type": "execute_result",
          "data": {
            "text/plain": [
              "array([[0., 1., 0., 3., 1., 0.],\n",
              "       [1., 0., 1., 1., 1., 0.],\n",
              "       [1., 0., 1., 3., 0., 0.],\n",
              "       ...,\n",
              "       [1., 0., 0., 3., 1., 2.],\n",
              "       [0., 1., 1., 1., 0., 0.],\n",
              "       [0., 1., 0., 3., 0., 0.]])"
            ]
          },
          "metadata": {
            "tags": []
          },
          "execution_count": 23
        }
      ]
    },
    {
      "cell_type": "code",
      "metadata": {
        "id": "5Mk-Sr0kwKvt",
        "colab_type": "code",
        "colab": {}
      },
      "source": [
        "#https://mail.google.com/mail/u/0/#label/Data+School/WhctKJVqrsDJXwHPtwJkplqhDQppftcGXSMDqlvvNvSTCWVdkhwsNQGDznJPKqFjWSgLZzQ"
      ],
      "execution_count": 0,
      "outputs": []
    },
    {
      "cell_type": "markdown",
      "metadata": {
        "id": "XQ4qvlyPy_kt",
        "colab_type": "text"
      },
      "source": [
        "## scikit-learn tip #3"
      ]
    },
    {
      "cell_type": "markdown",
      "metadata": {
        "id": "dF5pVC8EzVKX",
        "colab_type": "text"
      },
      "source": [
        "Two common ways to encode categorical features:\n",
        "\n",
        "*   OneHotEncoder for unordered (nominal) data\n",
        "*   OrdinalEncoder for ordered (ordinal) data\n",
        "\n",
        "use handle_unknown='ignore'"
      ]
    },
    {
      "cell_type": "code",
      "metadata": {
        "id": "9GyJmTWKy8Lb",
        "colab_type": "code",
        "colab": {
          "base_uri": "https://localhost:8080/",
          "height": 142
        },
        "outputId": "c4d0cc63-b300-4009-ed97-5523ebb37236"
      },
      "source": [
        "# Load Python Package\n",
        "import pandas as pd\n",
        "from sklearn.preprocessing import OneHotEncoder, OrdinalEncoder\n",
        "\n",
        "# Load data (working with Titanic dataset)\n",
        "data = pd.read_csv('https://web.stanford.edu/class/archive/cs/cs109/cs109.1166/stuff/titanic.csv')\n",
        "data.head(3)"
      ],
      "execution_count": 82,
      "outputs": [
        {
          "output_type": "execute_result",
          "data": {
            "text/html": [
              "<div>\n",
              "<style scoped>\n",
              "    .dataframe tbody tr th:only-of-type {\n",
              "        vertical-align: middle;\n",
              "    }\n",
              "\n",
              "    .dataframe tbody tr th {\n",
              "        vertical-align: top;\n",
              "    }\n",
              "\n",
              "    .dataframe thead th {\n",
              "        text-align: right;\n",
              "    }\n",
              "</style>\n",
              "<table border=\"1\" class=\"dataframe\">\n",
              "  <thead>\n",
              "    <tr style=\"text-align: right;\">\n",
              "      <th></th>\n",
              "      <th>Survived</th>\n",
              "      <th>Pclass</th>\n",
              "      <th>Name</th>\n",
              "      <th>Sex</th>\n",
              "      <th>Age</th>\n",
              "      <th>Siblings/Spouses Aboard</th>\n",
              "      <th>Parents/Children Aboard</th>\n",
              "      <th>Fare</th>\n",
              "    </tr>\n",
              "  </thead>\n",
              "  <tbody>\n",
              "    <tr>\n",
              "      <th>0</th>\n",
              "      <td>0</td>\n",
              "      <td>3</td>\n",
              "      <td>Mr. Owen Harris Braund</td>\n",
              "      <td>male</td>\n",
              "      <td>22.0</td>\n",
              "      <td>1</td>\n",
              "      <td>0</td>\n",
              "      <td>7.2500</td>\n",
              "    </tr>\n",
              "    <tr>\n",
              "      <th>1</th>\n",
              "      <td>1</td>\n",
              "      <td>1</td>\n",
              "      <td>Mrs. John Bradley (Florence Briggs Thayer) Cum...</td>\n",
              "      <td>female</td>\n",
              "      <td>38.0</td>\n",
              "      <td>1</td>\n",
              "      <td>0</td>\n",
              "      <td>71.2833</td>\n",
              "    </tr>\n",
              "    <tr>\n",
              "      <th>2</th>\n",
              "      <td>1</td>\n",
              "      <td>3</td>\n",
              "      <td>Miss. Laina Heikkinen</td>\n",
              "      <td>female</td>\n",
              "      <td>26.0</td>\n",
              "      <td>0</td>\n",
              "      <td>0</td>\n",
              "      <td>7.9250</td>\n",
              "    </tr>\n",
              "  </tbody>\n",
              "</table>\n",
              "</div>"
            ],
            "text/plain": [
              "   Survived  Pclass  ... Parents/Children Aboard     Fare\n",
              "0         0       3  ...                       0   7.2500\n",
              "1         1       1  ...                       0  71.2833\n",
              "2         1       3  ...                       0   7.9250\n",
              "\n",
              "[3 rows x 8 columns]"
            ]
          },
          "metadata": {
            "tags": []
          },
          "execution_count": 82
        }
      ]
    },
    {
      "cell_type": "code",
      "metadata": {
        "id": "IY8Uvevqzg2h",
        "colab_type": "code",
        "colab": {
          "base_uri": "https://localhost:8080/",
          "height": 136
        },
        "outputId": "20f2f1ea-c717-4942-aaff-745ad04ffd3f"
      },
      "source": [
        "ohe = OneHotEncoder(sparse=False, handle_unknown='ignore')\n",
        "ohe.fit_transform(data.drop('Survived',axis=1)[['Sex','Pclass']],data['Survived'])"
      ],
      "execution_count": 83,
      "outputs": [
        {
          "output_type": "execute_result",
          "data": {
            "text/plain": [
              "array([[0., 1., 0., 0., 1.],\n",
              "       [1., 0., 1., 0., 0.],\n",
              "       [1., 0., 0., 0., 1.],\n",
              "       ...,\n",
              "       [1., 0., 0., 0., 1.],\n",
              "       [0., 1., 1., 0., 0.],\n",
              "       [0., 1., 0., 0., 1.]])"
            ]
          },
          "metadata": {
            "tags": []
          },
          "execution_count": 83
        }
      ]
    },
    {
      "cell_type": "code",
      "metadata": {
        "id": "QzX_u7iz1X-y",
        "colab_type": "code",
        "colab": {}
      },
      "source": [
        "ce = OrdinalEncoder(categories=[['1','2','3']])\n",
        "ce.fit_transform(data.drop('Survived',axis=1)[['Pclass']],data['Survived'])"
      ],
      "execution_count": 0,
      "outputs": []
    },
    {
      "cell_type": "markdown",
      "metadata": {
        "id": "IHG_RbkW2qIZ",
        "colab_type": "text"
      },
      "source": [
        "## scikit-learn tip #4\n",
        "\n"
      ]
    },
    {
      "cell_type": "markdown",
      "metadata": {
        "id": "456BGYPV2qKl",
        "colab_type": "text"
      },
      "source": [
        "What does \"pipeline\" do? \n",
        "\n",
        "Chains together multiple steps: output of each step is used as input to the next step.\n",
        "\n",
        "Makes it easy to apply the same preprocessing to train and test!"
      ]
    },
    {
      "cell_type": "code",
      "metadata": {
        "id": "8m7lPIcE1vYQ",
        "colab_type": "code",
        "colab": {}
      },
      "source": [
        "import pandas as pd\n",
        "from sklearn.preprocessing import OneHotEncoder, StandardScaler\n",
        "from sklearn.impute import SimpleImputer, iter\n",
        "from sklearn.compose import make_column_transformer\n",
        "from sklearn.pipeline import make_pipeline\n",
        "from sklearn.tree import DecisionTreeClassifier\n",
        "from sklearn.neural_network import MLPClassifier\n",
        "\n",
        "\n",
        "from sklearn.model_selection import train_test_split\n",
        "\n",
        "# Load data (working with Titanic dataset)\n",
        "data = pd.read_csv('https://web.stanford.edu/class/archive/cs/cs109/cs109.1166/stuff/titanic.csv')\n",
        "data.head(3)\n",
        "\n",
        "X_train, X_test, y_train, y_test = train_test_split(data.drop('Survived',axis=1), data[['Survived']], test_size=0.33, random_state=42,shuffle=True)"
      ],
      "execution_count": 0,
      "outputs": []
    },
    {
      "cell_type": "code",
      "metadata": {
        "id": "4aB_vaG34sS3",
        "colab_type": "code",
        "colab": {
          "base_uri": "https://localhost:8080/",
          "height": 34
        },
        "outputId": "a46b1694-1284-4b01-aa53-86320c1093cc"
      },
      "source": [
        "ohe = OneHotEncoder(handle_unknown='ignore', sparse=True)\n",
        "imputer = SimpleImputer(add_indicator=True, verbose=1)\n",
        "scaler = StandardScaler()\n",
        "#clf = DecisionTreeClassifier()\n",
        "clf = MLPClassifier(learning_rate_init=0.002, early_stopping=True, random_state=42)\n",
        "\n",
        "\n",
        "preproces = make_column_transformer(\n",
        "    (make_pipeline(imputer,scaler),['Age','Siblings/Spouses Aboard','Parents/Children Aboard','Fare']),\n",
        "    (ohe, ['Pclass','Sex','Name']),\n",
        "    remainder='passthrough',\n",
        "    n_jobs=-1)\n",
        "\n",
        "model = make_pipeline(preproces,clf)\n",
        "\n",
        "model.fit(X_train, y_train.values.ravel())\n",
        "print(\"Best score : %f\" % model.score(X_test, y_test.values.ravel()))"
      ],
      "execution_count": 126,
      "outputs": [
        {
          "output_type": "stream",
          "text": [
            "Best score : 0.795222\n"
          ],
          "name": "stdout"
        }
      ]
    },
    {
      "cell_type": "code",
      "metadata": {
        "id": "ouHD4gXGCVru",
        "colab_type": "code",
        "colab": {
          "base_uri": "https://localhost:8080/",
          "height": 88
        },
        "outputId": "1b8f04af-cad3-4c8c-a6a1-67f425c5a7df"
      },
      "source": [
        "from sklearn.neural_network import MLPClassifier\n",
        "from sklearn.model_selection import GridSearchCV\n",
        "\n",
        "ohe = OneHotEncoder(handle_unknown='ignore', sparse=True)\n",
        "imputer = SimpleImputer(add_indicator=True, verbose=1)\n",
        "scaler = StandardScaler()\n",
        "clf = LogisticRegression(verbose=0)\n",
        "clf_1 = DecisionTreeClassifier()\n",
        "clf_2 = MLPClassifier(max_iter=200, verbose=0)\n",
        "\n",
        "preproces = make_column_transformer(\n",
        "    (make_pipeline(imputer,scaler),['Age','Siblings/Spouses Aboard','Parents/Children Aboard','Fare']),\n",
        "    (ohe, ['Pclass','Sex','Name']),\n",
        "    remainder='passthrough',\n",
        "    n_jobs=-1)\n",
        "\n",
        "param_grid = {\n",
        "    'columntransformer__pipeline__simpleimputer__strategy': ['mean', 'median']\n",
        "    }\n",
        "\n",
        "model = make_pipeline(preproces,clf_2)\n",
        "\n",
        "grid_clf = GridSearchCV(model, param_grid, cv=10, iid=False)\n",
        "grid_clf.fit(X_train, y_train.values.ravel())\n",
        "print(\"Best from grid search: %f\" % grid_clf.best_estimator_.score(X_test, y_test.values.ravel()))"
      ],
      "execution_count": 101,
      "outputs": [
        {
          "output_type": "stream",
          "text": [
            "/usr/local/lib/python3.6/dist-packages/sklearn/model_selection/_search.py:823: FutureWarning: The parameter 'iid' is deprecated in 0.22 and will be removed in 0.24.\n",
            "  \"removed in 0.24.\", FutureWarning\n"
          ],
          "name": "stderr"
        },
        {
          "output_type": "stream",
          "text": [
            "Best from grid search: 0.798635\n"
          ],
          "name": "stdout"
        }
      ]
    },
    {
      "cell_type": "code",
      "metadata": {
        "id": "sQ0tWmwCDfxe",
        "colab_type": "code",
        "colab": {}
      },
      "source": [
        "#https://jorisvandenbossche.github.io/blog/2018/05/28/scikit-learn-columntransformer/"
      ],
      "execution_count": 0,
      "outputs": []
    },
    {
      "cell_type": "markdown",
      "metadata": {
        "id": "84uOsq6MGmeL",
        "colab_type": "text"
      },
      "source": [
        "## scikit-learn tip #5\n"
      ]
    },
    {
      "cell_type": "markdown",
      "metadata": {
        "id": "mBgONPeuGrPs",
        "colab_type": "text"
      },
      "source": [
        "Need something better than SimpleImputer for missing value imputation?\n",
        "\n",
        "Try KNNImputer or IterativeImputer (inspired by R's MICE package). Both are multivariate approaches (they take other features into account!)"
      ]
    },
    {
      "cell_type": "code",
      "metadata": {
        "id": "FKx0GL5vGvi6",
        "colab_type": "code",
        "colab": {
          "base_uri": "https://localhost:8080/",
          "height": 34
        },
        "outputId": "cfcf26dc-1e7a-4c90-cf8f-e552a9113eee"
      },
      "source": [
        "import pandas as pd\n",
        "from sklearn.preprocessing import OneHotEncoder, StandardScaler\n",
        "from sklearn.experimental import enable_iterative_imputer, enable_hist_gradient_boosting\n",
        "from sklearn.impute import SimpleImputer, IterativeImputer, KNNImputer\n",
        "from sklearn.compose import make_column_transformer\n",
        "from sklearn.pipeline import make_pipeline\n",
        "from sklearn.tree import DecisionTreeClassifier\n",
        "from sklearn.ensemble import HistGradientBoostingClassifier\n",
        "\n",
        "from sklearn.model_selection import train_test_split\n",
        "\n",
        "# Load data (working with Titanic dataset)\n",
        "data = pd.read_csv('https://web.stanford.edu/class/archive/cs/cs109/cs109.1166/stuff/titanic.csv')\n",
        "data.pop('Name')\n",
        "data.head(3)\n",
        "\n",
        "X_train, X_test, y_train, y_test = train_test_split(data.drop('Survived',axis=1), data[['Survived']], test_size=0.2, random_state=13, shuffle=True, stratify=data[['Survived']])\n",
        "\n",
        "ohe = OneHotEncoder(handle_unknown='ignore', sparse=False)\n",
        "imputer = KNNImputer(add_indicator=True)\n",
        "scaler = StandardScaler()\n",
        "clf = HistGradientBoostingClassifier()\n",
        "\n",
        "preproces = make_column_transformer(\n",
        "    (make_pipeline(imputer,scaler),['Age','Siblings/Spouses Aboard','Parents/Children Aboard','Fare']),\n",
        "    (ohe, ['Pclass','Sex']),\n",
        "    remainder='passthrough',\n",
        "    n_jobs=-1)\n",
        "\n",
        "model = make_pipeline(preproces,clf)\n",
        "\n",
        "model.fit(X_train, y_train.values.ravel())\n",
        "print(\"Best score : %f\" % model.score(X_test, y_test.values.ravel()))"
      ],
      "execution_count": 179,
      "outputs": [
        {
          "output_type": "stream",
          "text": [
            "Best score : 0.831461\n"
          ],
          "name": "stdout"
        }
      ]
    },
    {
      "cell_type": "code",
      "metadata": {
        "id": "ob5GoCFyJkGy",
        "colab_type": "code",
        "colab": {}
      },
      "source": [
        ""
      ],
      "execution_count": 0,
      "outputs": []
    }
  ]
}
{
  "nbformat": 4,
  "nbformat_minor": 0,
  "metadata": {
    "colab": {
      "name": "Scikit Learn Tips #1 to 5.ipynb",
      "provenance": [],
      "authorship_tag": "ABX9TyPblBosqmp7XdcHek+RI511",
      "include_colab_link": true
    },
    "kernelspec": {
      "name": "python3",
      "display_name": "Python 3"
    }
  },
  "cells": [
    {
      "cell_type": "markdown",
      "metadata": {
        "id": "view-in-github",
        "colab_type": "text"
      },
      "source": [
        "<a href=\"https://colab.research.google.com/github/simonprudhomme/sklearn_tips/blob/master/Scikit_Learn_Tips_1_to_5.ipynb\" target=\"_parent\"><img src=\"https://colab.research.google.com/assets/colab-badge.svg\" alt=\"Open In Colab\"/></a>"
      ]
    },
    {
      "cell_type": "markdown",
      "metadata": {
        "id": "BP0FwArAnpv8",
        "colab_type": "text"
      },
      "source": [
        "## Scikit-learn tip #1"
      ]
    },
    {
      "cell_type": "markdown",
      "metadata": {
        "id": "dw6oqVnNnxZR",
        "colab_type": "text"
      },
      "source": [
        "Use ColumnTransformer to apply different preprocessing to different columns"
      ]
    },
    {
      "cell_type": "code",
      "metadata": {
        "id": "wkHPK3w4nr-I",
        "colab_type": "code",
        "outputId": "3ef2afe4-151b-47e2-f2ea-736da5a4f6ce",
        "colab": {
          "base_uri": "https://localhost:8080/",
          "height": 142
        }
      },
      "source": [
        "# Load Python Package\n",
        "import pandas as pd\n",
        "from sklearn.preprocessing import OneHotEncoder\n",
        "from sklearn.impute import SimpleImputer\n",
        "from sklearn.compose import make_column_transformer\n",
        "\n",
        "# Load data (working with Titanic dataset)\n",
        "data = pd.read_csv('https://web.stanford.edu/class/archive/cs/cs109/cs109.1166/stuff/titanic.csv')\n",
        "data.head(3)"
      ],
      "execution_count": 14,
      "outputs": [
        {
          "output_type": "execute_result",
          "data": {
            "text/html": [
              "<div>\n",
              "<style scoped>\n",
              "    .dataframe tbody tr th:only-of-type {\n",
              "        vertical-align: middle;\n",
              "    }\n",
              "\n",
              "    .dataframe tbody tr th {\n",
              "        vertical-align: top;\n",
              "    }\n",
              "\n",
              "    .dataframe thead th {\n",
              "        text-align: right;\n",
              "    }\n",
              "</style>\n",
              "<table border=\"1\" class=\"dataframe\">\n",
              "  <thead>\n",
              "    <tr style=\"text-align: right;\">\n",
              "      <th></th>\n",
              "      <th>Survived</th>\n",
              "      <th>Pclass</th>\n",
              "      <th>Name</th>\n",
              "      <th>Sex</th>\n",
              "      <th>Age</th>\n",
              "      <th>Siblings/Spouses Aboard</th>\n",
              "      <th>Parents/Children Aboard</th>\n",
              "      <th>Fare</th>\n",
              "    </tr>\n",
              "  </thead>\n",
              "  <tbody>\n",
              "    <tr>\n",
              "      <th>0</th>\n",
              "      <td>0</td>\n",
              "      <td>3</td>\n",
              "      <td>Mr. Owen Harris Braund</td>\n",
              "      <td>male</td>\n",
              "      <td>22.0</td>\n",
              "      <td>1</td>\n",
              "      <td>0</td>\n",
              "      <td>7.2500</td>\n",
              "    </tr>\n",
              "    <tr>\n",
              "      <th>1</th>\n",
              "      <td>1</td>\n",
              "      <td>1</td>\n",
              "      <td>Mrs. John Bradley (Florence Briggs Thayer) Cum...</td>\n",
              "      <td>female</td>\n",
              "      <td>38.0</td>\n",
              "      <td>1</td>\n",
              "      <td>0</td>\n",
              "      <td>71.2833</td>\n",
              "    </tr>\n",
              "    <tr>\n",
              "      <th>2</th>\n",
              "      <td>1</td>\n",
              "      <td>3</td>\n",
              "      <td>Miss. Laina Heikkinen</td>\n",
              "      <td>female</td>\n",
              "      <td>26.0</td>\n",
              "      <td>0</td>\n",
              "      <td>0</td>\n",
              "      <td>7.9250</td>\n",
              "    </tr>\n",
              "  </tbody>\n",
              "</table>\n",
              "</div>"
            ],
            "text/plain": [
              "   Survived  Pclass  ... Parents/Children Aboard     Fare\n",
              "0         0       3  ...                       0   7.2500\n",
              "1         1       1  ...                       0  71.2833\n",
              "2         1       3  ...                       0   7.9250\n",
              "\n",
              "[3 rows x 8 columns]"
            ]
          },
          "metadata": {
            "tags": []
          },
          "execution_count": 14
        }
      ]
    },
    {
      "cell_type": "code",
      "metadata": {
        "id": "_YesAMQOpII-",
        "colab_type": "code",
        "outputId": "ee9c1a08-c1b1-42cd-9b30-8ffcb93552c9",
        "colab": {
          "base_uri": "https://localhost:8080/",
          "height": 136
        }
      },
      "source": [
        "# Make Transformer\n",
        "transformer = make_column_transformer(\n",
        "    (OneHotEncoder(), ['Pclass','Sex']),\n",
        "    (SimpleImputer(), ['Age']),\n",
        "    remainder='passthrough'\n",
        ")\n",
        "\n",
        "# Fit-Transform data with transformer\n",
        "transformer.fit_transform(data)"
      ],
      "execution_count": 17,
      "outputs": [
        {
          "output_type": "execute_result",
          "data": {
            "text/plain": [
              "array([[0.0, 0.0, 1.0, ..., 1, 0, 7.25],\n",
              "       [1.0, 0.0, 0.0, ..., 1, 0, 71.2833],\n",
              "       [0.0, 0.0, 1.0, ..., 0, 0, 7.925],\n",
              "       ...,\n",
              "       [0.0, 0.0, 1.0, ..., 1, 2, 23.45],\n",
              "       [1.0, 0.0, 0.0, ..., 0, 0, 30.0],\n",
              "       [0.0, 0.0, 1.0, ..., 0, 0, 7.75]], dtype=object)"
            ]
          },
          "metadata": {
            "tags": []
          },
          "execution_count": 17
        }
      ]
    },
    {
      "cell_type": "markdown",
      "metadata": {
        "id": "HgS3TepXtYSh",
        "colab_type": "text"
      },
      "source": [
        "## scikit-learn tip #2"
      ]
    },
    {
      "cell_type": "markdown",
      "metadata": {
        "id": "UKE_RLtmtfY3",
        "colab_type": "text"
      },
      "source": [
        "There are SEVEN ways to select columns using ColumnTransformer"
      ]
    },
    {
      "cell_type": "code",
      "metadata": {
        "id": "Ckjs9ew5tjCK",
        "colab_type": "code",
        "colab": {
          "base_uri": "https://localhost:8080/",
          "height": 142
        },
        "outputId": "3e53e140-709a-4b3f-d96a-319c8561d154"
      },
      "source": [
        "# Load Python Package\n",
        "import pandas as pd\n",
        "from sklearn.preprocessing import OneHotEncoder\n",
        "from sklearn.impute import SimpleImputer\n",
        "from sklearn.compose import make_column_transformer\n",
        "from sklearn.compose import make_column_selector\n",
        "\n",
        "\n",
        "# Load data (working with Titanic dataset)\n",
        "data = pd.read_csv('https://web.stanford.edu/class/archive/cs/cs109/cs109.1166/stuff/titanic.csv')\n",
        "data.pop('Name')\n",
        "data.head(3)"
      ],
      "execution_count": 18,
      "outputs": [
        {
          "output_type": "execute_result",
          "data": {
            "text/html": [
              "<div>\n",
              "<style scoped>\n",
              "    .dataframe tbody tr th:only-of-type {\n",
              "        vertical-align: middle;\n",
              "    }\n",
              "\n",
              "    .dataframe tbody tr th {\n",
              "        vertical-align: top;\n",
              "    }\n",
              "\n",
              "    .dataframe thead th {\n",
              "        text-align: right;\n",
              "    }\n",
              "</style>\n",
              "<table border=\"1\" class=\"dataframe\">\n",
              "  <thead>\n",
              "    <tr style=\"text-align: right;\">\n",
              "      <th></th>\n",
              "      <th>Survived</th>\n",
              "      <th>Pclass</th>\n",
              "      <th>Sex</th>\n",
              "      <th>Age</th>\n",
              "      <th>Siblings/Spouses Aboard</th>\n",
              "      <th>Parents/Children Aboard</th>\n",
              "      <th>Fare</th>\n",
              "    </tr>\n",
              "  </thead>\n",
              "  <tbody>\n",
              "    <tr>\n",
              "      <th>0</th>\n",
              "      <td>0</td>\n",
              "      <td>3</td>\n",
              "      <td>male</td>\n",
              "      <td>22.0</td>\n",
              "      <td>1</td>\n",
              "      <td>0</td>\n",
              "      <td>7.2500</td>\n",
              "    </tr>\n",
              "    <tr>\n",
              "      <th>1</th>\n",
              "      <td>1</td>\n",
              "      <td>1</td>\n",
              "      <td>female</td>\n",
              "      <td>38.0</td>\n",
              "      <td>1</td>\n",
              "      <td>0</td>\n",
              "      <td>71.2833</td>\n",
              "    </tr>\n",
              "    <tr>\n",
              "      <th>2</th>\n",
              "      <td>1</td>\n",
              "      <td>3</td>\n",
              "      <td>female</td>\n",
              "      <td>26.0</td>\n",
              "      <td>0</td>\n",
              "      <td>0</td>\n",
              "      <td>7.9250</td>\n",
              "    </tr>\n",
              "  </tbody>\n",
              "</table>\n",
              "</div>"
            ],
            "text/plain": [
              "   Survived  Pclass  ... Parents/Children Aboard     Fare\n",
              "0         0       3  ...                       0   7.2500\n",
              "1         1       1  ...                       0  71.2833\n",
              "2         1       3  ...                       0   7.9250\n",
              "\n",
              "[3 rows x 7 columns]"
            ]
          },
          "metadata": {
            "tags": []
          },
          "execution_count": 18
        }
      ]
    },
    {
      "cell_type": "code",
      "metadata": {
        "id": "D7mb-v41tk3A",
        "colab_type": "code",
        "colab": {
          "base_uri": "https://localhost:8080/",
          "height": 136
        },
        "outputId": "c0e1bf0f-0e51-47e6-ab95-a765696f036f"
      },
      "source": [
        "# Make Transformer\n",
        "transformer = make_column_transformer(\n",
        "    (OneHotEncoder(), make_column_selector(dtype_include='object')),\n",
        "    (SimpleImputer(), make_column_selector(dtype_include='int')),\n",
        "    remainder='drop'\n",
        ")\n",
        "\n",
        "# Fit-Transform data with transformer\n",
        "transformer.fit_transform(data)"
      ],
      "execution_count": 21,
      "outputs": [
        {
          "output_type": "execute_result",
          "data": {
            "text/plain": [
              "array([[0., 1., 0., 3., 1., 0.],\n",
              "       [1., 0., 1., 1., 1., 0.],\n",
              "       [1., 0., 1., 3., 0., 0.],\n",
              "       ...,\n",
              "       [1., 0., 0., 3., 1., 2.],\n",
              "       [0., 1., 1., 1., 0., 0.],\n",
              "       [0., 1., 0., 3., 0., 0.]])"
            ]
          },
          "metadata": {
            "tags": []
          },
          "execution_count": 21
        }
      ]
    },
    {
      "cell_type": "code",
      "metadata": {
        "id": "5Mk-Sr0kwKvt",
        "colab_type": "code",
        "colab": {}
      },
      "source": [
        "https://mail.google.com/mail/u/0/#label/Data+School/WhctKJVqrsDJXwHPtwJkplqhDQppftcGXSMDqlvvNvSTCWVdkhwsNQGDznJPKqFjWSgLZzQ"
      ],
      "execution_count": 0,
      "outputs": []
    }
  ]
}